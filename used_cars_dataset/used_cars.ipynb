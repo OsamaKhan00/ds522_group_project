{
 "cells": [
  {
   "cell_type": "code",
   "execution_count": 15,
   "metadata": {
    "collapsed": true
   },
   "outputs": [],
   "source": [
    "import pandas as pd\n"
   ]
  },
  {
   "cell_type": "code",
   "execution_count": 16,
   "outputs": [],
   "source": [
    "# Import dataset\n",
    "df = pd.read_csv('used_cars.csv')\n"
   ],
   "metadata": {
    "collapsed": false
   }
  },
  {
   "cell_type": "markdown",
   "source": [
    "Explore the dataset"
   ],
   "metadata": {
    "collapsed": false
   }
  },
  {
   "cell_type": "code",
   "execution_count": 17,
   "outputs": [
    {
     "name": "stdout",
     "output_type": "stream",
     "text": [
      "<class 'pandas.core.frame.DataFrame'>\n",
      "RangeIndex: 6019 entries, 0 to 6018\n",
      "Data columns (total 14 columns):\n",
      " #   Column             Non-Null Count  Dtype  \n",
      "---  ------             --------------  -----  \n",
      " 0   Unnamed: 0         6019 non-null   int64  \n",
      " 1   Name               6019 non-null   object \n",
      " 2   Location           6019 non-null   object \n",
      " 3   Year               6019 non-null   int64  \n",
      " 4   Kilometers_Driven  6019 non-null   int64  \n",
      " 5   Fuel_Type          6019 non-null   object \n",
      " 6   Transmission       6019 non-null   object \n",
      " 7   Owner_Type         6019 non-null   object \n",
      " 8   Mileage            6017 non-null   object \n",
      " 9   Engine             5983 non-null   object \n",
      " 10  Power              5983 non-null   object \n",
      " 11  Seats              5977 non-null   float64\n",
      " 12  New_Price          824 non-null    object \n",
      " 13  Price              6019 non-null   float64\n",
      "dtypes: float64(2), int64(3), object(9)\n",
      "memory usage: 658.5+ KB\n"
     ]
    },
    {
     "data": {
      "text/plain": "        Unnamed: 0         Year  Kilometers_Driven        Seats        Price\ncount  6019.000000  6019.000000       6.019000e+03  5977.000000  6019.000000\nmean   3009.000000  2013.358199       5.873838e+04     5.278735     9.479468\nstd    1737.679967     3.269742       9.126884e+04     0.808840    11.187917\nmin       0.000000  1998.000000       1.710000e+02     0.000000     0.440000\n25%    1504.500000  2011.000000       3.400000e+04     5.000000     3.500000\n50%    3009.000000  2014.000000       5.300000e+04     5.000000     5.640000\n75%    4513.500000  2016.000000       7.300000e+04     5.000000     9.950000\nmax    6018.000000  2019.000000       6.500000e+06    10.000000   160.000000",
      "text/html": "<div>\n<style scoped>\n    .dataframe tbody tr th:only-of-type {\n        vertical-align: middle;\n    }\n\n    .dataframe tbody tr th {\n        vertical-align: top;\n    }\n\n    .dataframe thead th {\n        text-align: right;\n    }\n</style>\n<table border=\"1\" class=\"dataframe\">\n  <thead>\n    <tr style=\"text-align: right;\">\n      <th></th>\n      <th>Unnamed: 0</th>\n      <th>Year</th>\n      <th>Kilometers_Driven</th>\n      <th>Seats</th>\n      <th>Price</th>\n    </tr>\n  </thead>\n  <tbody>\n    <tr>\n      <th>count</th>\n      <td>6019.000000</td>\n      <td>6019.000000</td>\n      <td>6.019000e+03</td>\n      <td>5977.000000</td>\n      <td>6019.000000</td>\n    </tr>\n    <tr>\n      <th>mean</th>\n      <td>3009.000000</td>\n      <td>2013.358199</td>\n      <td>5.873838e+04</td>\n      <td>5.278735</td>\n      <td>9.479468</td>\n    </tr>\n    <tr>\n      <th>std</th>\n      <td>1737.679967</td>\n      <td>3.269742</td>\n      <td>9.126884e+04</td>\n      <td>0.808840</td>\n      <td>11.187917</td>\n    </tr>\n    <tr>\n      <th>min</th>\n      <td>0.000000</td>\n      <td>1998.000000</td>\n      <td>1.710000e+02</td>\n      <td>0.000000</td>\n      <td>0.440000</td>\n    </tr>\n    <tr>\n      <th>25%</th>\n      <td>1504.500000</td>\n      <td>2011.000000</td>\n      <td>3.400000e+04</td>\n      <td>5.000000</td>\n      <td>3.500000</td>\n    </tr>\n    <tr>\n      <th>50%</th>\n      <td>3009.000000</td>\n      <td>2014.000000</td>\n      <td>5.300000e+04</td>\n      <td>5.000000</td>\n      <td>5.640000</td>\n    </tr>\n    <tr>\n      <th>75%</th>\n      <td>4513.500000</td>\n      <td>2016.000000</td>\n      <td>7.300000e+04</td>\n      <td>5.000000</td>\n      <td>9.950000</td>\n    </tr>\n    <tr>\n      <th>max</th>\n      <td>6018.000000</td>\n      <td>2019.000000</td>\n      <td>6.500000e+06</td>\n      <td>10.000000</td>\n      <td>160.000000</td>\n    </tr>\n  </tbody>\n</table>\n</div>"
     },
     "execution_count": 17,
     "metadata": {},
     "output_type": "execute_result"
    }
   ],
   "source": [
    "# View the first few rows of the DataFrame\n",
    "df.head()\n",
    "\n",
    "# Get information about the dataset, such as column names and data types\n",
    "df.info()\n",
    "\n",
    "# Generate descriptive statistics of the numerical columns\n",
    "df.describe()"
   ],
   "metadata": {
    "collapsed": false
   }
  },
  {
   "cell_type": "markdown",
   "source": [
    "Handle Missing values"
   ],
   "metadata": {
    "collapsed": false
   }
  },
  {
   "cell_type": "code",
   "execution_count": 18,
   "outputs": [],
   "source": [
    "# Check for missing values in each column\n",
    "df.isnull().sum()\n",
    "\n",
    "# Drop rows with missing values\n",
    "df = df.dropna()\n",
    "\n",
    "# Reset the DataFrame index after dropping rows\n",
    "df = df.reset_index(drop=True)\n"
   ],
   "metadata": {
    "collapsed": false
   }
  },
  {
   "cell_type": "markdown",
   "source": [
    "Handle duplicate rows"
   ],
   "metadata": {
    "collapsed": false
   }
  },
  {
   "cell_type": "code",
   "execution_count": 19,
   "outputs": [],
   "source": [
    "# Check for duplicate rows\n",
    "df.duplicated().sum()\n",
    "\n",
    "# Drop duplicate rows\n",
    "df = df.drop_duplicates()\n",
    "\n",
    "# Reset the DataFrame index after dropping duplicates\n",
    "df = df.reset_index(drop=True)\n"
   ],
   "metadata": {
    "collapsed": false
   }
  },
  {
   "cell_type": "code",
   "execution_count": 20,
   "outputs": [
    {
     "data": {
      "text/plain": "     Unnamed: 0                               Name Location  Year  \\\n0             2                       Honda Jazz V  Chennai  2011   \n1             7  Toyota Innova Crysta 2.8 GX AT 8S   Mumbai  2016   \n2            10                   Maruti Ciaz Zeta    Kochi  2018   \n3            15        Mitsubishi Pajero Sport 4X4    Delhi  2014   \n4            20                  BMW 3 Series 320d    Kochi  2014   \n..          ...                                ...      ...   ...   \n818        5999              Tata Bolt Revotron XT  Chennai  2016   \n819        6002      Volkswagen Vento 1.6 Highline   Mumbai  2011   \n820        6005           Maruti Vitara Brezza VDi     Pune  2016   \n821        6010               Honda Brio 1.2 VX MT    Delhi  2013   \n822        6014                   Maruti Swift VDI    Delhi  2014   \n\n     Kilometers_Driven Fuel_Type Transmission Owner_Type     Mileage   Engine  \\\n0                46000    Petrol       Manual      First   18.2 kmpl  1199 CC   \n1                36000    Diesel    Automatic      First  11.36 kmpl  2755 CC   \n2                25692    Petrol       Manual      First  21.56 kmpl  1462 CC   \n3               110000    Diesel       Manual      First   13.5 kmpl  2477 CC   \n4                32982    Diesel    Automatic      First  22.69 kmpl  1995 CC   \n..                 ...       ...          ...        ...         ...      ...   \n818              10000    Petrol       Manual      First  17.57 kmpl  1193 CC   \n819              38000    Petrol       Manual      First  16.09 kmpl  1598 CC   \n820              37208    Diesel       Manual      First   24.3 kmpl  1248 CC   \n821              33746    Petrol       Manual      First   18.5 kmpl  1198 CC   \n822              27365    Diesel       Manual      First   28.4 kmpl  1248 CC   \n\n          Power  Seats   New_Price  Price  \n0      88.7 bhp    5.0   8.61 Lakh   4.50  \n1     171.5 bhp    8.0     21 Lakh  17.50  \n2    103.25 bhp    5.0  10.65 Lakh   9.95  \n3    175.56 bhp    7.0  32.01 Lakh  15.00  \n4       190 bhp    5.0  47.87 Lakh  18.55  \n..          ...    ...         ...    ...  \n818    88.7 bhp    5.0   7.77 Lakh   4.00  \n819   103.5 bhp    5.0  11.91 Lakh   3.25  \n820    88.5 bhp    5.0   9.93 Lakh   7.43  \n821    86.8 bhp    5.0   6.63 Lakh   3.20  \n822      74 bhp    5.0   7.88 Lakh   4.75  \n\n[823 rows x 14 columns]",
      "text/html": "<div>\n<style scoped>\n    .dataframe tbody tr th:only-of-type {\n        vertical-align: middle;\n    }\n\n    .dataframe tbody tr th {\n        vertical-align: top;\n    }\n\n    .dataframe thead th {\n        text-align: right;\n    }\n</style>\n<table border=\"1\" class=\"dataframe\">\n  <thead>\n    <tr style=\"text-align: right;\">\n      <th></th>\n      <th>Unnamed: 0</th>\n      <th>Name</th>\n      <th>Location</th>\n      <th>Year</th>\n      <th>Kilometers_Driven</th>\n      <th>Fuel_Type</th>\n      <th>Transmission</th>\n      <th>Owner_Type</th>\n      <th>Mileage</th>\n      <th>Engine</th>\n      <th>Power</th>\n      <th>Seats</th>\n      <th>New_Price</th>\n      <th>Price</th>\n    </tr>\n  </thead>\n  <tbody>\n    <tr>\n      <th>0</th>\n      <td>2</td>\n      <td>Honda Jazz V</td>\n      <td>Chennai</td>\n      <td>2011</td>\n      <td>46000</td>\n      <td>Petrol</td>\n      <td>Manual</td>\n      <td>First</td>\n      <td>18.2 kmpl</td>\n      <td>1199 CC</td>\n      <td>88.7 bhp</td>\n      <td>5.0</td>\n      <td>8.61 Lakh</td>\n      <td>4.50</td>\n    </tr>\n    <tr>\n      <th>1</th>\n      <td>7</td>\n      <td>Toyota Innova Crysta 2.8 GX AT 8S</td>\n      <td>Mumbai</td>\n      <td>2016</td>\n      <td>36000</td>\n      <td>Diesel</td>\n      <td>Automatic</td>\n      <td>First</td>\n      <td>11.36 kmpl</td>\n      <td>2755 CC</td>\n      <td>171.5 bhp</td>\n      <td>8.0</td>\n      <td>21 Lakh</td>\n      <td>17.50</td>\n    </tr>\n    <tr>\n      <th>2</th>\n      <td>10</td>\n      <td>Maruti Ciaz Zeta</td>\n      <td>Kochi</td>\n      <td>2018</td>\n      <td>25692</td>\n      <td>Petrol</td>\n      <td>Manual</td>\n      <td>First</td>\n      <td>21.56 kmpl</td>\n      <td>1462 CC</td>\n      <td>103.25 bhp</td>\n      <td>5.0</td>\n      <td>10.65 Lakh</td>\n      <td>9.95</td>\n    </tr>\n    <tr>\n      <th>3</th>\n      <td>15</td>\n      <td>Mitsubishi Pajero Sport 4X4</td>\n      <td>Delhi</td>\n      <td>2014</td>\n      <td>110000</td>\n      <td>Diesel</td>\n      <td>Manual</td>\n      <td>First</td>\n      <td>13.5 kmpl</td>\n      <td>2477 CC</td>\n      <td>175.56 bhp</td>\n      <td>7.0</td>\n      <td>32.01 Lakh</td>\n      <td>15.00</td>\n    </tr>\n    <tr>\n      <th>4</th>\n      <td>20</td>\n      <td>BMW 3 Series 320d</td>\n      <td>Kochi</td>\n      <td>2014</td>\n      <td>32982</td>\n      <td>Diesel</td>\n      <td>Automatic</td>\n      <td>First</td>\n      <td>22.69 kmpl</td>\n      <td>1995 CC</td>\n      <td>190 bhp</td>\n      <td>5.0</td>\n      <td>47.87 Lakh</td>\n      <td>18.55</td>\n    </tr>\n    <tr>\n      <th>...</th>\n      <td>...</td>\n      <td>...</td>\n      <td>...</td>\n      <td>...</td>\n      <td>...</td>\n      <td>...</td>\n      <td>...</td>\n      <td>...</td>\n      <td>...</td>\n      <td>...</td>\n      <td>...</td>\n      <td>...</td>\n      <td>...</td>\n      <td>...</td>\n    </tr>\n    <tr>\n      <th>818</th>\n      <td>5999</td>\n      <td>Tata Bolt Revotron XT</td>\n      <td>Chennai</td>\n      <td>2016</td>\n      <td>10000</td>\n      <td>Petrol</td>\n      <td>Manual</td>\n      <td>First</td>\n      <td>17.57 kmpl</td>\n      <td>1193 CC</td>\n      <td>88.7 bhp</td>\n      <td>5.0</td>\n      <td>7.77 Lakh</td>\n      <td>4.00</td>\n    </tr>\n    <tr>\n      <th>819</th>\n      <td>6002</td>\n      <td>Volkswagen Vento 1.6 Highline</td>\n      <td>Mumbai</td>\n      <td>2011</td>\n      <td>38000</td>\n      <td>Petrol</td>\n      <td>Manual</td>\n      <td>First</td>\n      <td>16.09 kmpl</td>\n      <td>1598 CC</td>\n      <td>103.5 bhp</td>\n      <td>5.0</td>\n      <td>11.91 Lakh</td>\n      <td>3.25</td>\n    </tr>\n    <tr>\n      <th>820</th>\n      <td>6005</td>\n      <td>Maruti Vitara Brezza VDi</td>\n      <td>Pune</td>\n      <td>2016</td>\n      <td>37208</td>\n      <td>Diesel</td>\n      <td>Manual</td>\n      <td>First</td>\n      <td>24.3 kmpl</td>\n      <td>1248 CC</td>\n      <td>88.5 bhp</td>\n      <td>5.0</td>\n      <td>9.93 Lakh</td>\n      <td>7.43</td>\n    </tr>\n    <tr>\n      <th>821</th>\n      <td>6010</td>\n      <td>Honda Brio 1.2 VX MT</td>\n      <td>Delhi</td>\n      <td>2013</td>\n      <td>33746</td>\n      <td>Petrol</td>\n      <td>Manual</td>\n      <td>First</td>\n      <td>18.5 kmpl</td>\n      <td>1198 CC</td>\n      <td>86.8 bhp</td>\n      <td>5.0</td>\n      <td>6.63 Lakh</td>\n      <td>3.20</td>\n    </tr>\n    <tr>\n      <th>822</th>\n      <td>6014</td>\n      <td>Maruti Swift VDI</td>\n      <td>Delhi</td>\n      <td>2014</td>\n      <td>27365</td>\n      <td>Diesel</td>\n      <td>Manual</td>\n      <td>First</td>\n      <td>28.4 kmpl</td>\n      <td>1248 CC</td>\n      <td>74 bhp</td>\n      <td>5.0</td>\n      <td>7.88 Lakh</td>\n      <td>4.75</td>\n    </tr>\n  </tbody>\n</table>\n<p>823 rows × 14 columns</p>\n</div>"
     },
     "execution_count": 20,
     "metadata": {},
     "output_type": "execute_result"
    }
   ],
   "source": [
    "df"
   ],
   "metadata": {
    "collapsed": false
   }
  },
  {
   "cell_type": "code",
   "execution_count": 21,
   "outputs": [],
   "source": [
    "# Data type for Mileage , Engine and Power columns need to be fixed. they should be float not object.this could be achieved by removing the units (kmpl , cc , bhp)\n",
    "\n",
    "df['Mileage'] = df['Mileage'].str.split(expand=True)[0].astype(float)\n",
    "df['Engine'] = df['Engine'].str.split(expand=True)[0].astype(float)\n",
    "df['Power'] = df['Power'].str.split(expand=True)[0].astype(float)\n"
   ],
   "metadata": {
    "collapsed": false
   }
  },
  {
   "cell_type": "code",
   "execution_count": 22,
   "outputs": [
    {
     "data": {
      "text/plain": "     Unnamed: 0                               Name Location  Year  \\\n0             2                       Honda Jazz V  Chennai  2011   \n1             7  Toyota Innova Crysta 2.8 GX AT 8S   Mumbai  2016   \n2            10                   Maruti Ciaz Zeta    Kochi  2018   \n3            15        Mitsubishi Pajero Sport 4X4    Delhi  2014   \n4            20                  BMW 3 Series 320d    Kochi  2014   \n..          ...                                ...      ...   ...   \n818        5999              Tata Bolt Revotron XT  Chennai  2016   \n819        6002      Volkswagen Vento 1.6 Highline   Mumbai  2011   \n820        6005           Maruti Vitara Brezza VDi     Pune  2016   \n821        6010               Honda Brio 1.2 VX MT    Delhi  2013   \n822        6014                   Maruti Swift VDI    Delhi  2014   \n\n     Kilometers_Driven Fuel_Type Transmission Owner_Type  Mileage  Engine  \\\n0                46000    Petrol       Manual      First    18.20  1199.0   \n1                36000    Diesel    Automatic      First    11.36  2755.0   \n2                25692    Petrol       Manual      First    21.56  1462.0   \n3               110000    Diesel       Manual      First    13.50  2477.0   \n4                32982    Diesel    Automatic      First    22.69  1995.0   \n..                 ...       ...          ...        ...      ...     ...   \n818              10000    Petrol       Manual      First    17.57  1193.0   \n819              38000    Petrol       Manual      First    16.09  1598.0   \n820              37208    Diesel       Manual      First    24.30  1248.0   \n821              33746    Petrol       Manual      First    18.50  1198.0   \n822              27365    Diesel       Manual      First    28.40  1248.0   \n\n      Power  Seats   New_Price  Price  \n0     88.70    5.0   8.61 Lakh   4.50  \n1    171.50    8.0     21 Lakh  17.50  \n2    103.25    5.0  10.65 Lakh   9.95  \n3    175.56    7.0  32.01 Lakh  15.00  \n4    190.00    5.0  47.87 Lakh  18.55  \n..      ...    ...         ...    ...  \n818   88.70    5.0   7.77 Lakh   4.00  \n819  103.50    5.0  11.91 Lakh   3.25  \n820   88.50    5.0   9.93 Lakh   7.43  \n821   86.80    5.0   6.63 Lakh   3.20  \n822   74.00    5.0   7.88 Lakh   4.75  \n\n[823 rows x 14 columns]",
      "text/html": "<div>\n<style scoped>\n    .dataframe tbody tr th:only-of-type {\n        vertical-align: middle;\n    }\n\n    .dataframe tbody tr th {\n        vertical-align: top;\n    }\n\n    .dataframe thead th {\n        text-align: right;\n    }\n</style>\n<table border=\"1\" class=\"dataframe\">\n  <thead>\n    <tr style=\"text-align: right;\">\n      <th></th>\n      <th>Unnamed: 0</th>\n      <th>Name</th>\n      <th>Location</th>\n      <th>Year</th>\n      <th>Kilometers_Driven</th>\n      <th>Fuel_Type</th>\n      <th>Transmission</th>\n      <th>Owner_Type</th>\n      <th>Mileage</th>\n      <th>Engine</th>\n      <th>Power</th>\n      <th>Seats</th>\n      <th>New_Price</th>\n      <th>Price</th>\n    </tr>\n  </thead>\n  <tbody>\n    <tr>\n      <th>0</th>\n      <td>2</td>\n      <td>Honda Jazz V</td>\n      <td>Chennai</td>\n      <td>2011</td>\n      <td>46000</td>\n      <td>Petrol</td>\n      <td>Manual</td>\n      <td>First</td>\n      <td>18.20</td>\n      <td>1199.0</td>\n      <td>88.70</td>\n      <td>5.0</td>\n      <td>8.61 Lakh</td>\n      <td>4.50</td>\n    </tr>\n    <tr>\n      <th>1</th>\n      <td>7</td>\n      <td>Toyota Innova Crysta 2.8 GX AT 8S</td>\n      <td>Mumbai</td>\n      <td>2016</td>\n      <td>36000</td>\n      <td>Diesel</td>\n      <td>Automatic</td>\n      <td>First</td>\n      <td>11.36</td>\n      <td>2755.0</td>\n      <td>171.50</td>\n      <td>8.0</td>\n      <td>21 Lakh</td>\n      <td>17.50</td>\n    </tr>\n    <tr>\n      <th>2</th>\n      <td>10</td>\n      <td>Maruti Ciaz Zeta</td>\n      <td>Kochi</td>\n      <td>2018</td>\n      <td>25692</td>\n      <td>Petrol</td>\n      <td>Manual</td>\n      <td>First</td>\n      <td>21.56</td>\n      <td>1462.0</td>\n      <td>103.25</td>\n      <td>5.0</td>\n      <td>10.65 Lakh</td>\n      <td>9.95</td>\n    </tr>\n    <tr>\n      <th>3</th>\n      <td>15</td>\n      <td>Mitsubishi Pajero Sport 4X4</td>\n      <td>Delhi</td>\n      <td>2014</td>\n      <td>110000</td>\n      <td>Diesel</td>\n      <td>Manual</td>\n      <td>First</td>\n      <td>13.50</td>\n      <td>2477.0</td>\n      <td>175.56</td>\n      <td>7.0</td>\n      <td>32.01 Lakh</td>\n      <td>15.00</td>\n    </tr>\n    <tr>\n      <th>4</th>\n      <td>20</td>\n      <td>BMW 3 Series 320d</td>\n      <td>Kochi</td>\n      <td>2014</td>\n      <td>32982</td>\n      <td>Diesel</td>\n      <td>Automatic</td>\n      <td>First</td>\n      <td>22.69</td>\n      <td>1995.0</td>\n      <td>190.00</td>\n      <td>5.0</td>\n      <td>47.87 Lakh</td>\n      <td>18.55</td>\n    </tr>\n    <tr>\n      <th>...</th>\n      <td>...</td>\n      <td>...</td>\n      <td>...</td>\n      <td>...</td>\n      <td>...</td>\n      <td>...</td>\n      <td>...</td>\n      <td>...</td>\n      <td>...</td>\n      <td>...</td>\n      <td>...</td>\n      <td>...</td>\n      <td>...</td>\n      <td>...</td>\n    </tr>\n    <tr>\n      <th>818</th>\n      <td>5999</td>\n      <td>Tata Bolt Revotron XT</td>\n      <td>Chennai</td>\n      <td>2016</td>\n      <td>10000</td>\n      <td>Petrol</td>\n      <td>Manual</td>\n      <td>First</td>\n      <td>17.57</td>\n      <td>1193.0</td>\n      <td>88.70</td>\n      <td>5.0</td>\n      <td>7.77 Lakh</td>\n      <td>4.00</td>\n    </tr>\n    <tr>\n      <th>819</th>\n      <td>6002</td>\n      <td>Volkswagen Vento 1.6 Highline</td>\n      <td>Mumbai</td>\n      <td>2011</td>\n      <td>38000</td>\n      <td>Petrol</td>\n      <td>Manual</td>\n      <td>First</td>\n      <td>16.09</td>\n      <td>1598.0</td>\n      <td>103.50</td>\n      <td>5.0</td>\n      <td>11.91 Lakh</td>\n      <td>3.25</td>\n    </tr>\n    <tr>\n      <th>820</th>\n      <td>6005</td>\n      <td>Maruti Vitara Brezza VDi</td>\n      <td>Pune</td>\n      <td>2016</td>\n      <td>37208</td>\n      <td>Diesel</td>\n      <td>Manual</td>\n      <td>First</td>\n      <td>24.30</td>\n      <td>1248.0</td>\n      <td>88.50</td>\n      <td>5.0</td>\n      <td>9.93 Lakh</td>\n      <td>7.43</td>\n    </tr>\n    <tr>\n      <th>821</th>\n      <td>6010</td>\n      <td>Honda Brio 1.2 VX MT</td>\n      <td>Delhi</td>\n      <td>2013</td>\n      <td>33746</td>\n      <td>Petrol</td>\n      <td>Manual</td>\n      <td>First</td>\n      <td>18.50</td>\n      <td>1198.0</td>\n      <td>86.80</td>\n      <td>5.0</td>\n      <td>6.63 Lakh</td>\n      <td>3.20</td>\n    </tr>\n    <tr>\n      <th>822</th>\n      <td>6014</td>\n      <td>Maruti Swift VDI</td>\n      <td>Delhi</td>\n      <td>2014</td>\n      <td>27365</td>\n      <td>Diesel</td>\n      <td>Manual</td>\n      <td>First</td>\n      <td>28.40</td>\n      <td>1248.0</td>\n      <td>74.00</td>\n      <td>5.0</td>\n      <td>7.88 Lakh</td>\n      <td>4.75</td>\n    </tr>\n  </tbody>\n</table>\n<p>823 rows × 14 columns</p>\n</div>"
     },
     "execution_count": 22,
     "metadata": {},
     "output_type": "execute_result"
    }
   ],
   "source": [
    "df\n"
   ],
   "metadata": {
    "collapsed": false
   }
  },
  {
   "cell_type": "code",
   "execution_count": 23,
   "outputs": [],
   "source": [
    "# New_Price column & Unnamed: 0 need to be dropped.\n",
    "df.drop(columns = ['Unnamed: 0','New_Price'],inplace = True)\n"
   ],
   "metadata": {
    "collapsed": false
   }
  },
  {
   "cell_type": "code",
   "execution_count": 24,
   "outputs": [
    {
     "data": {
      "text/plain": "              Year  Kilometers_Driven     Mileage       Engine       Power  \\\ncount   823.000000         823.000000  823.000000   823.000000  823.000000   \nmean   2015.869988       40498.402187   19.575589  1615.489672  120.227995   \nstd       2.378709       28791.171759    4.614245   562.811691   55.623259   \nmin    2001.000000         600.000000    0.000000   799.000000   53.000000   \n25%    2015.000000       20487.500000   16.770000  1197.000000   81.860000   \n50%    2016.000000       34895.000000   19.160000  1497.000000   99.000000   \n75%    2017.000000       53829.000000   22.690000  1995.000000  166.850000   \nmax    2019.000000      215000.000000   33.540000  4951.000000  444.000000   \n\n            Seats       Price  \ncount  823.000000  823.000000  \nmean     5.304982   13.647606  \nstd      0.795707   14.860539  \nmin      2.000000    0.700000  \n25%      5.000000    5.000000  \n50%      5.000000    8.200000  \n75%      5.000000   17.500000  \nmax      8.000000  160.000000  ",
      "text/html": "<div>\n<style scoped>\n    .dataframe tbody tr th:only-of-type {\n        vertical-align: middle;\n    }\n\n    .dataframe tbody tr th {\n        vertical-align: top;\n    }\n\n    .dataframe thead th {\n        text-align: right;\n    }\n</style>\n<table border=\"1\" class=\"dataframe\">\n  <thead>\n    <tr style=\"text-align: right;\">\n      <th></th>\n      <th>Year</th>\n      <th>Kilometers_Driven</th>\n      <th>Mileage</th>\n      <th>Engine</th>\n      <th>Power</th>\n      <th>Seats</th>\n      <th>Price</th>\n    </tr>\n  </thead>\n  <tbody>\n    <tr>\n      <th>count</th>\n      <td>823.000000</td>\n      <td>823.000000</td>\n      <td>823.000000</td>\n      <td>823.000000</td>\n      <td>823.000000</td>\n      <td>823.000000</td>\n      <td>823.000000</td>\n    </tr>\n    <tr>\n      <th>mean</th>\n      <td>2015.869988</td>\n      <td>40498.402187</td>\n      <td>19.575589</td>\n      <td>1615.489672</td>\n      <td>120.227995</td>\n      <td>5.304982</td>\n      <td>13.647606</td>\n    </tr>\n    <tr>\n      <th>std</th>\n      <td>2.378709</td>\n      <td>28791.171759</td>\n      <td>4.614245</td>\n      <td>562.811691</td>\n      <td>55.623259</td>\n      <td>0.795707</td>\n      <td>14.860539</td>\n    </tr>\n    <tr>\n      <th>min</th>\n      <td>2001.000000</td>\n      <td>600.000000</td>\n      <td>0.000000</td>\n      <td>799.000000</td>\n      <td>53.000000</td>\n      <td>2.000000</td>\n      <td>0.700000</td>\n    </tr>\n    <tr>\n      <th>25%</th>\n      <td>2015.000000</td>\n      <td>20487.500000</td>\n      <td>16.770000</td>\n      <td>1197.000000</td>\n      <td>81.860000</td>\n      <td>5.000000</td>\n      <td>5.000000</td>\n    </tr>\n    <tr>\n      <th>50%</th>\n      <td>2016.000000</td>\n      <td>34895.000000</td>\n      <td>19.160000</td>\n      <td>1497.000000</td>\n      <td>99.000000</td>\n      <td>5.000000</td>\n      <td>8.200000</td>\n    </tr>\n    <tr>\n      <th>75%</th>\n      <td>2017.000000</td>\n      <td>53829.000000</td>\n      <td>22.690000</td>\n      <td>1995.000000</td>\n      <td>166.850000</td>\n      <td>5.000000</td>\n      <td>17.500000</td>\n    </tr>\n    <tr>\n      <th>max</th>\n      <td>2019.000000</td>\n      <td>215000.000000</td>\n      <td>33.540000</td>\n      <td>4951.000000</td>\n      <td>444.000000</td>\n      <td>8.000000</td>\n      <td>160.000000</td>\n    </tr>\n  </tbody>\n</table>\n</div>"
     },
     "execution_count": 24,
     "metadata": {},
     "output_type": "execute_result"
    }
   ],
   "source": [
    "df.describe()\n"
   ],
   "metadata": {
    "collapsed": false
   }
  },
  {
   "cell_type": "code",
   "execution_count": 25,
   "outputs": [
    {
     "data": {
      "text/plain": "                                  Name Location  Year  Kilometers_Driven  \\\n0                         Honda Jazz V  Chennai  2011              46000   \n1    Toyota Innova Crysta 2.8 GX AT 8S   Mumbai  2016              36000   \n2                     Maruti Ciaz Zeta    Kochi  2018              25692   \n3          Mitsubishi Pajero Sport 4X4    Delhi  2014             110000   \n4                    BMW 3 Series 320d    Kochi  2014              32982   \n..                                 ...      ...   ...                ...   \n818              Tata Bolt Revotron XT  Chennai  2016              10000   \n819      Volkswagen Vento 1.6 Highline   Mumbai  2011              38000   \n820           Maruti Vitara Brezza VDi     Pune  2016              37208   \n821               Honda Brio 1.2 VX MT    Delhi  2013              33746   \n822                   Maruti Swift VDI    Delhi  2014              27365   \n\n    Fuel_Type Transmission Owner_Type  Mileage  Engine   Power  Seats  Price  \n0      Petrol       Manual      First    18.20  1199.0   88.70    5.0   4.50  \n1      Diesel    Automatic      First    11.36  2755.0  171.50    8.0  17.50  \n2      Petrol       Manual      First    21.56  1462.0  103.25    5.0   9.95  \n3      Diesel       Manual      First    13.50  2477.0  175.56    7.0  15.00  \n4      Diesel    Automatic      First    22.69  1995.0  190.00    5.0  18.55  \n..        ...          ...        ...      ...     ...     ...    ...    ...  \n818    Petrol       Manual      First    17.57  1193.0   88.70    5.0   4.00  \n819    Petrol       Manual      First    16.09  1598.0  103.50    5.0   3.25  \n820    Diesel       Manual      First    24.30  1248.0   88.50    5.0   7.43  \n821    Petrol       Manual      First    18.50  1198.0   86.80    5.0   3.20  \n822    Diesel       Manual      First    28.40  1248.0   74.00    5.0   4.75  \n\n[823 rows x 12 columns]",
      "text/html": "<div>\n<style scoped>\n    .dataframe tbody tr th:only-of-type {\n        vertical-align: middle;\n    }\n\n    .dataframe tbody tr th {\n        vertical-align: top;\n    }\n\n    .dataframe thead th {\n        text-align: right;\n    }\n</style>\n<table border=\"1\" class=\"dataframe\">\n  <thead>\n    <tr style=\"text-align: right;\">\n      <th></th>\n      <th>Name</th>\n      <th>Location</th>\n      <th>Year</th>\n      <th>Kilometers_Driven</th>\n      <th>Fuel_Type</th>\n      <th>Transmission</th>\n      <th>Owner_Type</th>\n      <th>Mileage</th>\n      <th>Engine</th>\n      <th>Power</th>\n      <th>Seats</th>\n      <th>Price</th>\n    </tr>\n  </thead>\n  <tbody>\n    <tr>\n      <th>0</th>\n      <td>Honda Jazz V</td>\n      <td>Chennai</td>\n      <td>2011</td>\n      <td>46000</td>\n      <td>Petrol</td>\n      <td>Manual</td>\n      <td>First</td>\n      <td>18.20</td>\n      <td>1199.0</td>\n      <td>88.70</td>\n      <td>5.0</td>\n      <td>4.50</td>\n    </tr>\n    <tr>\n      <th>1</th>\n      <td>Toyota Innova Crysta 2.8 GX AT 8S</td>\n      <td>Mumbai</td>\n      <td>2016</td>\n      <td>36000</td>\n      <td>Diesel</td>\n      <td>Automatic</td>\n      <td>First</td>\n      <td>11.36</td>\n      <td>2755.0</td>\n      <td>171.50</td>\n      <td>8.0</td>\n      <td>17.50</td>\n    </tr>\n    <tr>\n      <th>2</th>\n      <td>Maruti Ciaz Zeta</td>\n      <td>Kochi</td>\n      <td>2018</td>\n      <td>25692</td>\n      <td>Petrol</td>\n      <td>Manual</td>\n      <td>First</td>\n      <td>21.56</td>\n      <td>1462.0</td>\n      <td>103.25</td>\n      <td>5.0</td>\n      <td>9.95</td>\n    </tr>\n    <tr>\n      <th>3</th>\n      <td>Mitsubishi Pajero Sport 4X4</td>\n      <td>Delhi</td>\n      <td>2014</td>\n      <td>110000</td>\n      <td>Diesel</td>\n      <td>Manual</td>\n      <td>First</td>\n      <td>13.50</td>\n      <td>2477.0</td>\n      <td>175.56</td>\n      <td>7.0</td>\n      <td>15.00</td>\n    </tr>\n    <tr>\n      <th>4</th>\n      <td>BMW 3 Series 320d</td>\n      <td>Kochi</td>\n      <td>2014</td>\n      <td>32982</td>\n      <td>Diesel</td>\n      <td>Automatic</td>\n      <td>First</td>\n      <td>22.69</td>\n      <td>1995.0</td>\n      <td>190.00</td>\n      <td>5.0</td>\n      <td>18.55</td>\n    </tr>\n    <tr>\n      <th>...</th>\n      <td>...</td>\n      <td>...</td>\n      <td>...</td>\n      <td>...</td>\n      <td>...</td>\n      <td>...</td>\n      <td>...</td>\n      <td>...</td>\n      <td>...</td>\n      <td>...</td>\n      <td>...</td>\n      <td>...</td>\n    </tr>\n    <tr>\n      <th>818</th>\n      <td>Tata Bolt Revotron XT</td>\n      <td>Chennai</td>\n      <td>2016</td>\n      <td>10000</td>\n      <td>Petrol</td>\n      <td>Manual</td>\n      <td>First</td>\n      <td>17.57</td>\n      <td>1193.0</td>\n      <td>88.70</td>\n      <td>5.0</td>\n      <td>4.00</td>\n    </tr>\n    <tr>\n      <th>819</th>\n      <td>Volkswagen Vento 1.6 Highline</td>\n      <td>Mumbai</td>\n      <td>2011</td>\n      <td>38000</td>\n      <td>Petrol</td>\n      <td>Manual</td>\n      <td>First</td>\n      <td>16.09</td>\n      <td>1598.0</td>\n      <td>103.50</td>\n      <td>5.0</td>\n      <td>3.25</td>\n    </tr>\n    <tr>\n      <th>820</th>\n      <td>Maruti Vitara Brezza VDi</td>\n      <td>Pune</td>\n      <td>2016</td>\n      <td>37208</td>\n      <td>Diesel</td>\n      <td>Manual</td>\n      <td>First</td>\n      <td>24.30</td>\n      <td>1248.0</td>\n      <td>88.50</td>\n      <td>5.0</td>\n      <td>7.43</td>\n    </tr>\n    <tr>\n      <th>821</th>\n      <td>Honda Brio 1.2 VX MT</td>\n      <td>Delhi</td>\n      <td>2013</td>\n      <td>33746</td>\n      <td>Petrol</td>\n      <td>Manual</td>\n      <td>First</td>\n      <td>18.50</td>\n      <td>1198.0</td>\n      <td>86.80</td>\n      <td>5.0</td>\n      <td>3.20</td>\n    </tr>\n    <tr>\n      <th>822</th>\n      <td>Maruti Swift VDI</td>\n      <td>Delhi</td>\n      <td>2014</td>\n      <td>27365</td>\n      <td>Diesel</td>\n      <td>Manual</td>\n      <td>First</td>\n      <td>28.40</td>\n      <td>1248.0</td>\n      <td>74.00</td>\n      <td>5.0</td>\n      <td>4.75</td>\n    </tr>\n  </tbody>\n</table>\n<p>823 rows × 12 columns</p>\n</div>"
     },
     "execution_count": 25,
     "metadata": {},
     "output_type": "execute_result"
    }
   ],
   "source": [
    "df"
   ],
   "metadata": {
    "collapsed": false
   }
  },
  {
   "cell_type": "code",
   "execution_count": 26,
   "outputs": [],
   "source": [
    "# Replace 'preprocessed_dataset.csv' with the desired file name\n",
    "df.to_csv('preprocessed_used_cars.csv', index=False)\n"
   ],
   "metadata": {
    "collapsed": false
   }
  },
  {
   "cell_type": "code",
   "execution_count": null,
   "outputs": [],
   "source": [],
   "metadata": {
    "collapsed": false
   }
  }
 ],
 "metadata": {
  "kernelspec": {
   "display_name": "Python 3",
   "language": "python",
   "name": "python3"
  },
  "language_info": {
   "codemirror_mode": {
    "name": "ipython",
    "version": 2
   },
   "file_extension": ".py",
   "mimetype": "text/x-python",
   "name": "python",
   "nbconvert_exporter": "python",
   "pygments_lexer": "ipython2",
   "version": "2.7.6"
  }
 },
 "nbformat": 4,
 "nbformat_minor": 0
}

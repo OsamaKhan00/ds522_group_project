{
 "cells": [
  {
   "cell_type": "code",
   "execution_count": 1,
   "metadata": {
    "collapsed": true
   },
   "outputs": [],
   "source": [
    "import pandas as pd\n"
   ]
  },
  {
   "cell_type": "code",
   "execution_count": 2,
   "outputs": [],
   "source": [
    "# Import dataset\n",
    "df = pd.read_csv('CarRentalData.csv')\n"
   ],
   "metadata": {
    "collapsed": false
   }
  },
  {
   "cell_type": "code",
   "execution_count": 3,
   "outputs": [
    {
     "name": "stdout",
     "output_type": "stream",
     "text": [
      "<class 'pandas.core.frame.DataFrame'>\n",
      "RangeIndex: 5851 entries, 0 to 5850\n",
      "Data columns (total 15 columns):\n",
      " #   Column              Non-Null Count  Dtype  \n",
      "---  ------              --------------  -----  \n",
      " 0   fuelType            5776 non-null   object \n",
      " 1   rating              5350 non-null   float64\n",
      " 2   renterTripsTaken    5851 non-null   int64  \n",
      " 3   reviewCount         5851 non-null   int64  \n",
      " 4   location.city       5851 non-null   object \n",
      " 5   location.country    5851 non-null   object \n",
      " 6   location.latitude   5851 non-null   float64\n",
      " 7   location.longitude  5851 non-null   float64\n",
      " 8   location.state      5851 non-null   object \n",
      " 9   owner.id            5851 non-null   int64  \n",
      " 10  rate.daily          5851 non-null   int64  \n",
      " 11  vehicle.make        5851 non-null   object \n",
      " 12  vehicle.model       5851 non-null   object \n",
      " 13  vehicle.type        5851 non-null   object \n",
      " 14  vehicle.year        5851 non-null   int64  \n",
      "dtypes: float64(3), int64(5), object(7)\n",
      "memory usage: 685.8+ KB\n"
     ]
    },
    {
     "data": {
      "text/plain": "            rating  renterTripsTaken  reviewCount  location.latitude  \\\ncount  5350.000000       5851.000000  5851.000000        5851.000000   \nmean      4.920325         33.477354    28.454794          35.582889   \nstd       0.182425         41.898954    35.136113           6.431408   \nmin       1.000000          0.000000     0.000000          21.272565   \n25%       4.900000          5.000000     4.000000          30.453623   \n50%       5.000000         18.000000    16.000000          35.554502   \n75%       5.000000         46.000000    39.000000          39.996864   \nmax       5.000000        395.000000   321.000000          64.893610   \n\n       location.longitude      owner.id   rate.daily  vehicle.year  \ncount         5851.000000  5.851000e+03  5851.000000   5851.000000  \nmean           -99.632773  6.034830e+06    93.691506   2015.340113  \nstd             20.391476  4.646022e+06    96.080920      4.050813  \nmin           -158.165693  5.105000e+03    20.000000   1955.000000  \n25%           -117.158285  1.917451e+06    45.000000   2014.000000  \n50%            -95.673319  4.968749e+06    69.000000   2016.000000  \n75%            -81.538631  9.657496e+06   110.000000   2018.000000  \nmax            -68.823637  1.581088e+07  1500.000000   2020.000000  ",
      "text/html": "<div>\n<style scoped>\n    .dataframe tbody tr th:only-of-type {\n        vertical-align: middle;\n    }\n\n    .dataframe tbody tr th {\n        vertical-align: top;\n    }\n\n    .dataframe thead th {\n        text-align: right;\n    }\n</style>\n<table border=\"1\" class=\"dataframe\">\n  <thead>\n    <tr style=\"text-align: right;\">\n      <th></th>\n      <th>rating</th>\n      <th>renterTripsTaken</th>\n      <th>reviewCount</th>\n      <th>location.latitude</th>\n      <th>location.longitude</th>\n      <th>owner.id</th>\n      <th>rate.daily</th>\n      <th>vehicle.year</th>\n    </tr>\n  </thead>\n  <tbody>\n    <tr>\n      <th>count</th>\n      <td>5350.000000</td>\n      <td>5851.000000</td>\n      <td>5851.000000</td>\n      <td>5851.000000</td>\n      <td>5851.000000</td>\n      <td>5.851000e+03</td>\n      <td>5851.000000</td>\n      <td>5851.000000</td>\n    </tr>\n    <tr>\n      <th>mean</th>\n      <td>4.920325</td>\n      <td>33.477354</td>\n      <td>28.454794</td>\n      <td>35.582889</td>\n      <td>-99.632773</td>\n      <td>6.034830e+06</td>\n      <td>93.691506</td>\n      <td>2015.340113</td>\n    </tr>\n    <tr>\n      <th>std</th>\n      <td>0.182425</td>\n      <td>41.898954</td>\n      <td>35.136113</td>\n      <td>6.431408</td>\n      <td>20.391476</td>\n      <td>4.646022e+06</td>\n      <td>96.080920</td>\n      <td>4.050813</td>\n    </tr>\n    <tr>\n      <th>min</th>\n      <td>1.000000</td>\n      <td>0.000000</td>\n      <td>0.000000</td>\n      <td>21.272565</td>\n      <td>-158.165693</td>\n      <td>5.105000e+03</td>\n      <td>20.000000</td>\n      <td>1955.000000</td>\n    </tr>\n    <tr>\n      <th>25%</th>\n      <td>4.900000</td>\n      <td>5.000000</td>\n      <td>4.000000</td>\n      <td>30.453623</td>\n      <td>-117.158285</td>\n      <td>1.917451e+06</td>\n      <td>45.000000</td>\n      <td>2014.000000</td>\n    </tr>\n    <tr>\n      <th>50%</th>\n      <td>5.000000</td>\n      <td>18.000000</td>\n      <td>16.000000</td>\n      <td>35.554502</td>\n      <td>-95.673319</td>\n      <td>4.968749e+06</td>\n      <td>69.000000</td>\n      <td>2016.000000</td>\n    </tr>\n    <tr>\n      <th>75%</th>\n      <td>5.000000</td>\n      <td>46.000000</td>\n      <td>39.000000</td>\n      <td>39.996864</td>\n      <td>-81.538631</td>\n      <td>9.657496e+06</td>\n      <td>110.000000</td>\n      <td>2018.000000</td>\n    </tr>\n    <tr>\n      <th>max</th>\n      <td>5.000000</td>\n      <td>395.000000</td>\n      <td>321.000000</td>\n      <td>64.893610</td>\n      <td>-68.823637</td>\n      <td>1.581088e+07</td>\n      <td>1500.000000</td>\n      <td>2020.000000</td>\n    </tr>\n  </tbody>\n</table>\n</div>"
     },
     "execution_count": 3,
     "metadata": {},
     "output_type": "execute_result"
    }
   ],
   "source": [
    "# View the first few rows of the DataFrame\n",
    "df.head()\n",
    "\n",
    "# Get information about the dataset, such as column names and data types\n",
    "df.info()\n",
    "\n",
    "# Generate descriptive statistics of the numerical columns\n",
    "df.describe()\n"
   ],
   "metadata": {
    "collapsed": false
   }
  },
  {
   "cell_type": "code",
   "execution_count": 5,
   "outputs": [],
   "source": [
    "# Check for missing values in each column\n",
    "df.isnull().sum()\n",
    "\n",
    "# Drop rows with missing values\n",
    "df = df.dropna()\n",
    "\n",
    "# Reset the DataFrame index after dropping rows\n",
    "df = df.reset_index(drop=True)\n"
   ],
   "metadata": {
    "collapsed": false
   }
  },
  {
   "cell_type": "code",
   "execution_count": 6,
   "outputs": [],
   "source": [
    "# Check for duplicate rows\n",
    "df.duplicated().sum()\n",
    "\n",
    "# Drop duplicate rows\n",
    "df = df.drop_duplicates()\n",
    "\n",
    "# Reset the DataFrame index after dropping duplicates\n",
    "df = df.reset_index(drop=True)\n"
   ],
   "metadata": {
    "collapsed": false
   }
  },
  {
   "cell_type": "code",
   "execution_count": 7,
   "outputs": [
    {
     "data": {
      "text/plain": "      fuelType  rating  renterTripsTaken  reviewCount location.city  \\\n0     ELECTRIC    5.00                13           12       Seattle   \n1     ELECTRIC    5.00                 2            1       Tijeras   \n2       HYBRID    4.92                28           24   Albuquerque   \n3     GASOLINE    5.00                21           20   Albuquerque   \n4     GASOLINE    5.00                 3            1   Albuquerque   \n...        ...     ...               ...          ...           ...   \n5281  GASOLINE    5.00                 2            2      Mililani   \n5282  GASOLINE    5.00                32           27      Honolulu   \n5283    HYBRID    5.00                17           16          Aiea   \n5284  GASOLINE    4.94                18           17        Kailua   \n5285  GASOLINE    5.00                16           14        Kailua   \n\n     location.country  location.latitude  location.longitude location.state  \\\n0                  US          47.449107         -122.308841             WA   \n1                  US          35.111060         -106.276551             NM   \n2                  US          35.127163         -106.566681             NM   \n3                  US          35.149726         -106.711425             NM   \n4                  US          35.208659         -106.601008             NM   \n...               ...                ...                 ...            ...   \n5281               US          21.435401         -158.019400             HI   \n5282               US          21.292950         -157.836856             HI   \n5283               US          21.375507         -157.914919             HI   \n5284               US          21.378719         -157.727816             HI   \n5285               US          21.378040         -157.730000             HI   \n\n      owner.id  rate.daily vehicle.make vehicle.model vehicle.type  \\\n0     12847615         135        Tesla       Model X          suv   \n1     15621242         190        Tesla       Model X          suv   \n2     10199256          35       Toyota         Prius          car   \n3      9365496          75         Ford       Mustang          car   \n4      3553565          47     Chrysler       Sebring          car   \n...        ...         ...          ...           ...          ...   \n5281   8836511          50       Nissan         Rogue          suv   \n5282   9794111          33    Chevrolet         Cruze          car   \n5283   2754690          49        Lexus       HS 250h          car   \n5284  11313508          35        smart        fortwo          car   \n5285  11313508          35        smart        fortwo          car   \n\n      vehicle.year  \n0             2019  \n1             2018  \n2             2012  \n3             2018  \n4             2010  \n...            ...  \n5281          2014  \n5282          2017  \n5283          2010  \n5284          2013  \n5285          2013  \n\n[5286 rows x 15 columns]",
      "text/html": "<div>\n<style scoped>\n    .dataframe tbody tr th:only-of-type {\n        vertical-align: middle;\n    }\n\n    .dataframe tbody tr th {\n        vertical-align: top;\n    }\n\n    .dataframe thead th {\n        text-align: right;\n    }\n</style>\n<table border=\"1\" class=\"dataframe\">\n  <thead>\n    <tr style=\"text-align: right;\">\n      <th></th>\n      <th>fuelType</th>\n      <th>rating</th>\n      <th>renterTripsTaken</th>\n      <th>reviewCount</th>\n      <th>location.city</th>\n      <th>location.country</th>\n      <th>location.latitude</th>\n      <th>location.longitude</th>\n      <th>location.state</th>\n      <th>owner.id</th>\n      <th>rate.daily</th>\n      <th>vehicle.make</th>\n      <th>vehicle.model</th>\n      <th>vehicle.type</th>\n      <th>vehicle.year</th>\n    </tr>\n  </thead>\n  <tbody>\n    <tr>\n      <th>0</th>\n      <td>ELECTRIC</td>\n      <td>5.00</td>\n      <td>13</td>\n      <td>12</td>\n      <td>Seattle</td>\n      <td>US</td>\n      <td>47.449107</td>\n      <td>-122.308841</td>\n      <td>WA</td>\n      <td>12847615</td>\n      <td>135</td>\n      <td>Tesla</td>\n      <td>Model X</td>\n      <td>suv</td>\n      <td>2019</td>\n    </tr>\n    <tr>\n      <th>1</th>\n      <td>ELECTRIC</td>\n      <td>5.00</td>\n      <td>2</td>\n      <td>1</td>\n      <td>Tijeras</td>\n      <td>US</td>\n      <td>35.111060</td>\n      <td>-106.276551</td>\n      <td>NM</td>\n      <td>15621242</td>\n      <td>190</td>\n      <td>Tesla</td>\n      <td>Model X</td>\n      <td>suv</td>\n      <td>2018</td>\n    </tr>\n    <tr>\n      <th>2</th>\n      <td>HYBRID</td>\n      <td>4.92</td>\n      <td>28</td>\n      <td>24</td>\n      <td>Albuquerque</td>\n      <td>US</td>\n      <td>35.127163</td>\n      <td>-106.566681</td>\n      <td>NM</td>\n      <td>10199256</td>\n      <td>35</td>\n      <td>Toyota</td>\n      <td>Prius</td>\n      <td>car</td>\n      <td>2012</td>\n    </tr>\n    <tr>\n      <th>3</th>\n      <td>GASOLINE</td>\n      <td>5.00</td>\n      <td>21</td>\n      <td>20</td>\n      <td>Albuquerque</td>\n      <td>US</td>\n      <td>35.149726</td>\n      <td>-106.711425</td>\n      <td>NM</td>\n      <td>9365496</td>\n      <td>75</td>\n      <td>Ford</td>\n      <td>Mustang</td>\n      <td>car</td>\n      <td>2018</td>\n    </tr>\n    <tr>\n      <th>4</th>\n      <td>GASOLINE</td>\n      <td>5.00</td>\n      <td>3</td>\n      <td>1</td>\n      <td>Albuquerque</td>\n      <td>US</td>\n      <td>35.208659</td>\n      <td>-106.601008</td>\n      <td>NM</td>\n      <td>3553565</td>\n      <td>47</td>\n      <td>Chrysler</td>\n      <td>Sebring</td>\n      <td>car</td>\n      <td>2010</td>\n    </tr>\n    <tr>\n      <th>...</th>\n      <td>...</td>\n      <td>...</td>\n      <td>...</td>\n      <td>...</td>\n      <td>...</td>\n      <td>...</td>\n      <td>...</td>\n      <td>...</td>\n      <td>...</td>\n      <td>...</td>\n      <td>...</td>\n      <td>...</td>\n      <td>...</td>\n      <td>...</td>\n      <td>...</td>\n    </tr>\n    <tr>\n      <th>5281</th>\n      <td>GASOLINE</td>\n      <td>5.00</td>\n      <td>2</td>\n      <td>2</td>\n      <td>Mililani</td>\n      <td>US</td>\n      <td>21.435401</td>\n      <td>-158.019400</td>\n      <td>HI</td>\n      <td>8836511</td>\n      <td>50</td>\n      <td>Nissan</td>\n      <td>Rogue</td>\n      <td>suv</td>\n      <td>2014</td>\n    </tr>\n    <tr>\n      <th>5282</th>\n      <td>GASOLINE</td>\n      <td>5.00</td>\n      <td>32</td>\n      <td>27</td>\n      <td>Honolulu</td>\n      <td>US</td>\n      <td>21.292950</td>\n      <td>-157.836856</td>\n      <td>HI</td>\n      <td>9794111</td>\n      <td>33</td>\n      <td>Chevrolet</td>\n      <td>Cruze</td>\n      <td>car</td>\n      <td>2017</td>\n    </tr>\n    <tr>\n      <th>5283</th>\n      <td>HYBRID</td>\n      <td>5.00</td>\n      <td>17</td>\n      <td>16</td>\n      <td>Aiea</td>\n      <td>US</td>\n      <td>21.375507</td>\n      <td>-157.914919</td>\n      <td>HI</td>\n      <td>2754690</td>\n      <td>49</td>\n      <td>Lexus</td>\n      <td>HS 250h</td>\n      <td>car</td>\n      <td>2010</td>\n    </tr>\n    <tr>\n      <th>5284</th>\n      <td>GASOLINE</td>\n      <td>4.94</td>\n      <td>18</td>\n      <td>17</td>\n      <td>Kailua</td>\n      <td>US</td>\n      <td>21.378719</td>\n      <td>-157.727816</td>\n      <td>HI</td>\n      <td>11313508</td>\n      <td>35</td>\n      <td>smart</td>\n      <td>fortwo</td>\n      <td>car</td>\n      <td>2013</td>\n    </tr>\n    <tr>\n      <th>5285</th>\n      <td>GASOLINE</td>\n      <td>5.00</td>\n      <td>16</td>\n      <td>14</td>\n      <td>Kailua</td>\n      <td>US</td>\n      <td>21.378040</td>\n      <td>-157.730000</td>\n      <td>HI</td>\n      <td>11313508</td>\n      <td>35</td>\n      <td>smart</td>\n      <td>fortwo</td>\n      <td>car</td>\n      <td>2013</td>\n    </tr>\n  </tbody>\n</table>\n<p>5286 rows × 15 columns</p>\n</div>"
     },
     "execution_count": 7,
     "metadata": {},
     "output_type": "execute_result"
    }
   ],
   "source": [
    "df\n"
   ],
   "metadata": {
    "collapsed": false
   }
  },
  {
   "cell_type": "code",
   "execution_count": 8,
   "outputs": [],
   "source": [
    "#Since the data is collected in USA, drop column country\n",
    "df.drop(\"location.country\", axis=1, inplace=True)\n"
   ],
   "metadata": {
    "collapsed": false
   }
  },
  {
   "cell_type": "code",
   "execution_count": 9,
   "outputs": [
    {
     "data": {
      "text/plain": "      fuelType  rating  renterTripsTaken  reviewCount location.city  \\\n0     ELECTRIC    5.00                13           12       Seattle   \n1     ELECTRIC    5.00                 2            1       Tijeras   \n2       HYBRID    4.92                28           24   Albuquerque   \n3     GASOLINE    5.00                21           20   Albuquerque   \n4     GASOLINE    5.00                 3            1   Albuquerque   \n...        ...     ...               ...          ...           ...   \n5281  GASOLINE    5.00                 2            2      Mililani   \n5282  GASOLINE    5.00                32           27      Honolulu   \n5283    HYBRID    5.00                17           16          Aiea   \n5284  GASOLINE    4.94                18           17        Kailua   \n5285  GASOLINE    5.00                16           14        Kailua   \n\n      location.latitude  location.longitude location.state  owner.id  \\\n0             47.449107         -122.308841             WA  12847615   \n1             35.111060         -106.276551             NM  15621242   \n2             35.127163         -106.566681             NM  10199256   \n3             35.149726         -106.711425             NM   9365496   \n4             35.208659         -106.601008             NM   3553565   \n...                 ...                 ...            ...       ...   \n5281          21.435401         -158.019400             HI   8836511   \n5282          21.292950         -157.836856             HI   9794111   \n5283          21.375507         -157.914919             HI   2754690   \n5284          21.378719         -157.727816             HI  11313508   \n5285          21.378040         -157.730000             HI  11313508   \n\n      rate.daily vehicle.make vehicle.model vehicle.type  vehicle.year  \n0            135        Tesla       Model X          suv          2019  \n1            190        Tesla       Model X          suv          2018  \n2             35       Toyota         Prius          car          2012  \n3             75         Ford       Mustang          car          2018  \n4             47     Chrysler       Sebring          car          2010  \n...          ...          ...           ...          ...           ...  \n5281          50       Nissan         Rogue          suv          2014  \n5282          33    Chevrolet         Cruze          car          2017  \n5283          49        Lexus       HS 250h          car          2010  \n5284          35        smart        fortwo          car          2013  \n5285          35        smart        fortwo          car          2013  \n\n[5286 rows x 14 columns]",
      "text/html": "<div>\n<style scoped>\n    .dataframe tbody tr th:only-of-type {\n        vertical-align: middle;\n    }\n\n    .dataframe tbody tr th {\n        vertical-align: top;\n    }\n\n    .dataframe thead th {\n        text-align: right;\n    }\n</style>\n<table border=\"1\" class=\"dataframe\">\n  <thead>\n    <tr style=\"text-align: right;\">\n      <th></th>\n      <th>fuelType</th>\n      <th>rating</th>\n      <th>renterTripsTaken</th>\n      <th>reviewCount</th>\n      <th>location.city</th>\n      <th>location.latitude</th>\n      <th>location.longitude</th>\n      <th>location.state</th>\n      <th>owner.id</th>\n      <th>rate.daily</th>\n      <th>vehicle.make</th>\n      <th>vehicle.model</th>\n      <th>vehicle.type</th>\n      <th>vehicle.year</th>\n    </tr>\n  </thead>\n  <tbody>\n    <tr>\n      <th>0</th>\n      <td>ELECTRIC</td>\n      <td>5.00</td>\n      <td>13</td>\n      <td>12</td>\n      <td>Seattle</td>\n      <td>47.449107</td>\n      <td>-122.308841</td>\n      <td>WA</td>\n      <td>12847615</td>\n      <td>135</td>\n      <td>Tesla</td>\n      <td>Model X</td>\n      <td>suv</td>\n      <td>2019</td>\n    </tr>\n    <tr>\n      <th>1</th>\n      <td>ELECTRIC</td>\n      <td>5.00</td>\n      <td>2</td>\n      <td>1</td>\n      <td>Tijeras</td>\n      <td>35.111060</td>\n      <td>-106.276551</td>\n      <td>NM</td>\n      <td>15621242</td>\n      <td>190</td>\n      <td>Tesla</td>\n      <td>Model X</td>\n      <td>suv</td>\n      <td>2018</td>\n    </tr>\n    <tr>\n      <th>2</th>\n      <td>HYBRID</td>\n      <td>4.92</td>\n      <td>28</td>\n      <td>24</td>\n      <td>Albuquerque</td>\n      <td>35.127163</td>\n      <td>-106.566681</td>\n      <td>NM</td>\n      <td>10199256</td>\n      <td>35</td>\n      <td>Toyota</td>\n      <td>Prius</td>\n      <td>car</td>\n      <td>2012</td>\n    </tr>\n    <tr>\n      <th>3</th>\n      <td>GASOLINE</td>\n      <td>5.00</td>\n      <td>21</td>\n      <td>20</td>\n      <td>Albuquerque</td>\n      <td>35.149726</td>\n      <td>-106.711425</td>\n      <td>NM</td>\n      <td>9365496</td>\n      <td>75</td>\n      <td>Ford</td>\n      <td>Mustang</td>\n      <td>car</td>\n      <td>2018</td>\n    </tr>\n    <tr>\n      <th>4</th>\n      <td>GASOLINE</td>\n      <td>5.00</td>\n      <td>3</td>\n      <td>1</td>\n      <td>Albuquerque</td>\n      <td>35.208659</td>\n      <td>-106.601008</td>\n      <td>NM</td>\n      <td>3553565</td>\n      <td>47</td>\n      <td>Chrysler</td>\n      <td>Sebring</td>\n      <td>car</td>\n      <td>2010</td>\n    </tr>\n    <tr>\n      <th>...</th>\n      <td>...</td>\n      <td>...</td>\n      <td>...</td>\n      <td>...</td>\n      <td>...</td>\n      <td>...</td>\n      <td>...</td>\n      <td>...</td>\n      <td>...</td>\n      <td>...</td>\n      <td>...</td>\n      <td>...</td>\n      <td>...</td>\n      <td>...</td>\n    </tr>\n    <tr>\n      <th>5281</th>\n      <td>GASOLINE</td>\n      <td>5.00</td>\n      <td>2</td>\n      <td>2</td>\n      <td>Mililani</td>\n      <td>21.435401</td>\n      <td>-158.019400</td>\n      <td>HI</td>\n      <td>8836511</td>\n      <td>50</td>\n      <td>Nissan</td>\n      <td>Rogue</td>\n      <td>suv</td>\n      <td>2014</td>\n    </tr>\n    <tr>\n      <th>5282</th>\n      <td>GASOLINE</td>\n      <td>5.00</td>\n      <td>32</td>\n      <td>27</td>\n      <td>Honolulu</td>\n      <td>21.292950</td>\n      <td>-157.836856</td>\n      <td>HI</td>\n      <td>9794111</td>\n      <td>33</td>\n      <td>Chevrolet</td>\n      <td>Cruze</td>\n      <td>car</td>\n      <td>2017</td>\n    </tr>\n    <tr>\n      <th>5283</th>\n      <td>HYBRID</td>\n      <td>5.00</td>\n      <td>17</td>\n      <td>16</td>\n      <td>Aiea</td>\n      <td>21.375507</td>\n      <td>-157.914919</td>\n      <td>HI</td>\n      <td>2754690</td>\n      <td>49</td>\n      <td>Lexus</td>\n      <td>HS 250h</td>\n      <td>car</td>\n      <td>2010</td>\n    </tr>\n    <tr>\n      <th>5284</th>\n      <td>GASOLINE</td>\n      <td>4.94</td>\n      <td>18</td>\n      <td>17</td>\n      <td>Kailua</td>\n      <td>21.378719</td>\n      <td>-157.727816</td>\n      <td>HI</td>\n      <td>11313508</td>\n      <td>35</td>\n      <td>smart</td>\n      <td>fortwo</td>\n      <td>car</td>\n      <td>2013</td>\n    </tr>\n    <tr>\n      <th>5285</th>\n      <td>GASOLINE</td>\n      <td>5.00</td>\n      <td>16</td>\n      <td>14</td>\n      <td>Kailua</td>\n      <td>21.378040</td>\n      <td>-157.730000</td>\n      <td>HI</td>\n      <td>11313508</td>\n      <td>35</td>\n      <td>smart</td>\n      <td>fortwo</td>\n      <td>car</td>\n      <td>2013</td>\n    </tr>\n  </tbody>\n</table>\n<p>5286 rows × 14 columns</p>\n</div>"
     },
     "execution_count": 9,
     "metadata": {},
     "output_type": "execute_result"
    }
   ],
   "source": [
    "df\n"
   ],
   "metadata": {
    "collapsed": false
   }
  },
  {
   "cell_type": "code",
   "execution_count": 11,
   "outputs": [],
   "source": [
    "# Replace 'preprocessed_dataset.csv' with the desired file name\n",
    "df.to_csv('preprocessed_cornell_car_rentals.csv', index=False)\n"
   ],
   "metadata": {
    "collapsed": false
   }
  }
 ],
 "metadata": {
  "kernelspec": {
   "display_name": "Python 3",
   "language": "python",
   "name": "python3"
  },
  "language_info": {
   "codemirror_mode": {
    "name": "ipython",
    "version": 2
   },
   "file_extension": ".py",
   "mimetype": "text/x-python",
   "name": "python",
   "nbconvert_exporter": "python",
   "pygments_lexer": "ipython2",
   "version": "2.7.6"
  }
 },
 "nbformat": 4,
 "nbformat_minor": 0
}
